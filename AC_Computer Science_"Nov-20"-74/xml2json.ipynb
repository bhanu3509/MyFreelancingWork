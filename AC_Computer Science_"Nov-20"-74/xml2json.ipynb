{
 "cells": [
  {
   "cell_type": "markdown",
   "metadata": {
    "colab_type": "text",
    "id": "e9Dv6ZxEpxZN"
   },
   "source": [
    "# FIT5196 Task X in Assessment X\n",
    "\n",
    "Date: XX/XX/XXXX\n",
    "\n",
    "Version: 1.0\n",
    "\n",
    "Environment: Python XX and Jupyter notebook\n",
    "\n",
    "Libraries used: please include the main libraries you used in your assignment here, e.g.,:\n",
    "* pandas \n",
    "* re \n",
    "* numpy \n",
    "\n",
    "<font size=3, color=\"red\"> Note: this is a sample notebook only. You will need to fill in the proper markdown and code blocks. You might also want to make necessary changes to the structure to meet your own needs. It is important to make sure the logic of how you finish the assessment is clearly shown in this notebook! </font>"
   ]
  },
  {
   "cell_type": "markdown",
   "metadata": {
    "colab_type": "text",
    "id": "BzrU77l0pxZP"
   },
   "source": [
    "## 1.  Import libraries "
   ]
  },
  {
   "cell_type": "code",
   "execution_count": 2,
   "metadata": {
    "colab": {
     "autoexec": {
      "startup": false,
      "wait_interval": 0
     }
    },
    "colab_type": "code",
    "id": "sO8PvpkHpxZQ"
   },
   "outputs": [],
   "source": [
    "# Code to install libraries as you need in this assessment\n",
    "# Install this package as per your choice, if you want to install it, please un-comment it and install and then run the code further.\n",
    "# pip3 install xmltodict"
   ]
  },
  {
   "cell_type": "code",
   "execution_count": 3,
   "metadata": {},
   "outputs": [],
   "source": [
    "# Code to import libraries as you need in this assessment\n",
    "import json \n",
    "import xmltodict"
   ]
  },
  {
   "cell_type": "markdown",
   "metadata": {
    "colab_type": "text",
    "id": "sA69D-E9pxZX"
   },
   "source": [
    "## 2. Parse XXXX File\n",
    "\n",
    "In this section, you can write your python scripts to parse the corresponding file.\n",
    "You should \n",
    "* write proper notes for all code block in this notebook using the Markdown cells\n",
    "* provide proper comment in your scripts\n",
    "* run all cells to make sure scripts are runable. If the scripts cannot be run by the assessors, they will not be assessed and zero mark will be given to the task."
   ]
  },
  {
   "cell_type": "code",
   "execution_count": 7,
   "metadata": {
    "colab": {
     "autoexec": {
      "startup": false,
      "wait_interval": 0
     }
    },
    "colab_type": "code",
    "id": "BjBXTY4upxZX"
   },
   "outputs": [],
   "source": [
    "with open(\"xml.xml\") as xml_file: \t\n",
    "\tdata_dict = xmltodict.parse(xml_file.read()) \n",
    "\txml_file.close() \n",
    "\t\n",
    "\t# generate the object using json.dumps() \n",
    "\t# corresponding to json data \n",
    "\t\n",
    "\tjson_data = json.dumps(data_dict) \n",
    "\t\n",
    "\t# Write the json data to output \n",
    "\t# json file \n",
    "\twith open(\"json.dat\", \"w\") as json_file: \n",
    "\t\tjson_file.write(json_data) \n",
    "\t\tjson_file.close() "
   ]
  },
  {
   "cell_type": "markdown",
   "metadata": {
    "colab_type": "text",
    "id": "EcdPOIfSpxZe"
   },
   "source": [
    "## 3. Summary\n",
    "Give a short summary of your work done above, such as your findings.\n",
    "\n",
    "The program successfully accomplishes the task at hand, i.e, converting the XML file 'xml.xml' into JSON file 'data.json'. I have used the library xmltodict to convert xml to json. Although the output data.json is unorganised, we can use an online validator to beautify the json code and check if the file obtained is valid or not. "
   ]
  }
 ],
 "metadata": {
  "colab": {
   "default_view": {},
   "name": "xml2json.ipynb",
   "provenance": [],
   "version": "0.3.2",
   "views": {}
  },
  "kernelspec": {
   "display_name": "Python 3",
   "language": "python",
   "name": "python3"
  },
  "language_info": {
   "codemirror_mode": {
    "name": "ipython",
    "version": 3
   },
   "file_extension": ".py",
   "mimetype": "text/x-python",
   "name": "python",
   "nbconvert_exporter": "python",
   "pygments_lexer": "ipython3",
   "version": "3.8.5-final"
  }
 },
 "nbformat": 4,
 "nbformat_minor": 1
}